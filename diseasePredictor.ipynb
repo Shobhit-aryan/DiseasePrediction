{
 "cells": [
  {
   "cell_type": "code",
   "execution_count": 1,
   "metadata": {},
   "outputs": [],
   "source": [
    "import numpy as np\n",
    "import pandas as pd"
   ]
  },
  {
   "cell_type": "code",
   "execution_count": 2,
   "metadata": {},
   "outputs": [
    {
     "data": {
      "text/html": [
       "<div>\n",
       "<style scoped>\n",
       "    .dataframe tbody tr th:only-of-type {\n",
       "        vertical-align: middle;\n",
       "    }\n",
       "\n",
       "    .dataframe tbody tr th {\n",
       "        vertical-align: top;\n",
       "    }\n",
       "\n",
       "    .dataframe thead th {\n",
       "        text-align: right;\n",
       "    }\n",
       "</style>\n",
       "<table border=\"1\" class=\"dataframe\">\n",
       "  <thead>\n",
       "    <tr style=\"text-align: right;\">\n",
       "      <th></th>\n",
       "      <th>Disease</th>\n",
       "      <th>Symptom_1</th>\n",
       "      <th>Symptom_2</th>\n",
       "      <th>Symptom_3</th>\n",
       "      <th>Symptom_4</th>\n",
       "      <th>Symptom_5</th>\n",
       "      <th>Symptom_6</th>\n",
       "      <th>Symptom_7</th>\n",
       "      <th>Symptom_8</th>\n",
       "      <th>Symptom_9</th>\n",
       "      <th>Symptom_10</th>\n",
       "      <th>Symptom_11</th>\n",
       "      <th>Symptom_12</th>\n",
       "      <th>Symptom_13</th>\n",
       "      <th>Symptom_14</th>\n",
       "      <th>Symptom_15</th>\n",
       "      <th>Symptom_16</th>\n",
       "      <th>Symptom_17</th>\n",
       "    </tr>\n",
       "  </thead>\n",
       "  <tbody>\n",
       "    <tr>\n",
       "      <td>0</td>\n",
       "      <td>Fungal infection</td>\n",
       "      <td>itching</td>\n",
       "      <td>skin_rash</td>\n",
       "      <td>nodal_skin_eruptions</td>\n",
       "      <td>dischromic _patches</td>\n",
       "      <td>NaN</td>\n",
       "      <td>NaN</td>\n",
       "      <td>NaN</td>\n",
       "      <td>NaN</td>\n",
       "      <td>NaN</td>\n",
       "      <td>NaN</td>\n",
       "      <td>NaN</td>\n",
       "      <td>NaN</td>\n",
       "      <td>NaN</td>\n",
       "      <td>NaN</td>\n",
       "      <td>NaN</td>\n",
       "      <td>NaN</td>\n",
       "      <td>NaN</td>\n",
       "    </tr>\n",
       "    <tr>\n",
       "      <td>1</td>\n",
       "      <td>Fungal infection</td>\n",
       "      <td>skin_rash</td>\n",
       "      <td>nodal_skin_eruptions</td>\n",
       "      <td>dischromic _patches</td>\n",
       "      <td>NaN</td>\n",
       "      <td>NaN</td>\n",
       "      <td>NaN</td>\n",
       "      <td>NaN</td>\n",
       "      <td>NaN</td>\n",
       "      <td>NaN</td>\n",
       "      <td>NaN</td>\n",
       "      <td>NaN</td>\n",
       "      <td>NaN</td>\n",
       "      <td>NaN</td>\n",
       "      <td>NaN</td>\n",
       "      <td>NaN</td>\n",
       "      <td>NaN</td>\n",
       "      <td>NaN</td>\n",
       "    </tr>\n",
       "    <tr>\n",
       "      <td>2</td>\n",
       "      <td>Fungal infection</td>\n",
       "      <td>itching</td>\n",
       "      <td>nodal_skin_eruptions</td>\n",
       "      <td>dischromic _patches</td>\n",
       "      <td>NaN</td>\n",
       "      <td>NaN</td>\n",
       "      <td>NaN</td>\n",
       "      <td>NaN</td>\n",
       "      <td>NaN</td>\n",
       "      <td>NaN</td>\n",
       "      <td>NaN</td>\n",
       "      <td>NaN</td>\n",
       "      <td>NaN</td>\n",
       "      <td>NaN</td>\n",
       "      <td>NaN</td>\n",
       "      <td>NaN</td>\n",
       "      <td>NaN</td>\n",
       "      <td>NaN</td>\n",
       "    </tr>\n",
       "    <tr>\n",
       "      <td>3</td>\n",
       "      <td>Fungal infection</td>\n",
       "      <td>itching</td>\n",
       "      <td>skin_rash</td>\n",
       "      <td>dischromic _patches</td>\n",
       "      <td>NaN</td>\n",
       "      <td>NaN</td>\n",
       "      <td>NaN</td>\n",
       "      <td>NaN</td>\n",
       "      <td>NaN</td>\n",
       "      <td>NaN</td>\n",
       "      <td>NaN</td>\n",
       "      <td>NaN</td>\n",
       "      <td>NaN</td>\n",
       "      <td>NaN</td>\n",
       "      <td>NaN</td>\n",
       "      <td>NaN</td>\n",
       "      <td>NaN</td>\n",
       "      <td>NaN</td>\n",
       "    </tr>\n",
       "    <tr>\n",
       "      <td>4</td>\n",
       "      <td>Fungal infection</td>\n",
       "      <td>itching</td>\n",
       "      <td>skin_rash</td>\n",
       "      <td>nodal_skin_eruptions</td>\n",
       "      <td>NaN</td>\n",
       "      <td>NaN</td>\n",
       "      <td>NaN</td>\n",
       "      <td>NaN</td>\n",
       "      <td>NaN</td>\n",
       "      <td>NaN</td>\n",
       "      <td>NaN</td>\n",
       "      <td>NaN</td>\n",
       "      <td>NaN</td>\n",
       "      <td>NaN</td>\n",
       "      <td>NaN</td>\n",
       "      <td>NaN</td>\n",
       "      <td>NaN</td>\n",
       "      <td>NaN</td>\n",
       "    </tr>\n",
       "  </tbody>\n",
       "</table>\n",
       "</div>"
      ],
      "text/plain": [
       "            Disease   Symptom_1              Symptom_2              Symptom_3  \\\n",
       "0  Fungal infection     itching              skin_rash   nodal_skin_eruptions   \n",
       "1  Fungal infection   skin_rash   nodal_skin_eruptions    dischromic _patches   \n",
       "2  Fungal infection     itching   nodal_skin_eruptions    dischromic _patches   \n",
       "3  Fungal infection     itching              skin_rash    dischromic _patches   \n",
       "4  Fungal infection     itching              skin_rash   nodal_skin_eruptions   \n",
       "\n",
       "              Symptom_4 Symptom_5 Symptom_6 Symptom_7 Symptom_8 Symptom_9  \\\n",
       "0   dischromic _patches       NaN       NaN       NaN       NaN       NaN   \n",
       "1                   NaN       NaN       NaN       NaN       NaN       NaN   \n",
       "2                   NaN       NaN       NaN       NaN       NaN       NaN   \n",
       "3                   NaN       NaN       NaN       NaN       NaN       NaN   \n",
       "4                   NaN       NaN       NaN       NaN       NaN       NaN   \n",
       "\n",
       "  Symptom_10 Symptom_11 Symptom_12 Symptom_13 Symptom_14 Symptom_15  \\\n",
       "0        NaN        NaN        NaN        NaN        NaN        NaN   \n",
       "1        NaN        NaN        NaN        NaN        NaN        NaN   \n",
       "2        NaN        NaN        NaN        NaN        NaN        NaN   \n",
       "3        NaN        NaN        NaN        NaN        NaN        NaN   \n",
       "4        NaN        NaN        NaN        NaN        NaN        NaN   \n",
       "\n",
       "  Symptom_16 Symptom_17  \n",
       "0        NaN        NaN  \n",
       "1        NaN        NaN  \n",
       "2        NaN        NaN  \n",
       "3        NaN        NaN  \n",
       "4        NaN        NaN  "
      ]
     },
     "execution_count": 2,
     "metadata": {},
     "output_type": "execute_result"
    }
   ],
   "source": [
    "data=pd.read_csv(r\"data-disease-symptom-description/dataset.csv\")\n",
    "data.head()"
   ]
  },
  {
   "cell_type": "code",
   "execution_count": 3,
   "metadata": {},
   "outputs": [
    {
     "data": {
      "text/plain": [
       "(4920, 18)"
      ]
     },
     "execution_count": 3,
     "metadata": {},
     "output_type": "execute_result"
    }
   ],
   "source": [
    "data.shape"
   ]
  },
  {
   "cell_type": "code",
   "execution_count": 4,
   "metadata": {},
   "outputs": [
    {
     "data": {
      "text/plain": [
       "Index(['Disease', 'Symptom_1', 'Symptom_2', 'Symptom_3', 'Symptom_4',\n",
       "       'Symptom_5', 'Symptom_6', 'Symptom_7', 'Symptom_8', 'Symptom_9',\n",
       "       'Symptom_10', 'Symptom_11', 'Symptom_12', 'Symptom_13', 'Symptom_14',\n",
       "       'Symptom_15', 'Symptom_16', 'Symptom_17'],\n",
       "      dtype='object')"
      ]
     },
     "execution_count": 4,
     "metadata": {},
     "output_type": "execute_result"
    }
   ],
   "source": [
    "data.columns"
   ]
  },
  {
   "cell_type": "code",
   "execution_count": 5,
   "metadata": {},
   "outputs": [],
   "source": [
    "disease_list= data[\"Disease\"].unique()"
   ]
  },
  {
   "cell_type": "code",
   "execution_count": 6,
   "metadata": {},
   "outputs": [
    {
     "name": "stdout",
     "output_type": "stream",
     "text": [
      "['(vertigo) Paroymsal  Positional Vertigo', 'AIDS', 'Acne', 'Alcoholic hepatitis', 'Allergy', 'Arthritis', 'Bronchial Asthma', 'Cervical spondylosis', 'Chicken pox', 'Chronic cholestasis', 'Common Cold', 'Dengue', 'Diabetes ', 'Dimorphic hemmorhoids(piles)', 'Drug Reaction', 'Fungal infection', 'GERD', 'Gastroenteritis', 'Heart attack', 'Hepatitis B', 'Hepatitis C', 'Hepatitis D', 'Hepatitis E', 'Hypertension ', 'Hyperthyroidism', 'Hypoglycemia', 'Hypothyroidism', 'Impetigo', 'Jaundice', 'Malaria', 'Migraine', 'Osteoarthristis', 'Paralysis (brain hemorrhage)', 'Peptic ulcer diseae', 'Pneumonia', 'Psoriasis', 'Tuberculosis', 'Typhoid', 'Urinary tract infection', 'Varicose veins', 'hepatitis A']\n"
     ]
    }
   ],
   "source": [
    "sorted_disease_list=sorted(disease_list)\n",
    "print(sorted_disease_list)"
   ]
  },
  {
   "cell_type": "code",
   "execution_count": 7,
   "metadata": {},
   "outputs": [
    {
     "name": "stdout",
     "output_type": "stream",
     "text": [
      "0 (vertigo) Paroymsal  Positional Vertigo\n",
      "1 AIDS\n",
      "2 Acne\n",
      "3 Alcoholic hepatitis\n",
      "4 Allergy\n",
      "5 Arthritis\n",
      "6 Bronchial Asthma\n",
      "7 Cervical spondylosis\n",
      "8 Chicken pox\n",
      "9 Chronic cholestasis\n",
      "10 Common Cold\n",
      "11 Dengue\n",
      "12 Diabetes \n",
      "13 Dimorphic hemmorhoids(piles)\n",
      "14 Drug Reaction\n",
      "15 Fungal infection\n",
      "16 GERD\n",
      "17 Gastroenteritis\n",
      "18 Heart attack\n",
      "19 Hepatitis B\n",
      "20 Hepatitis C\n",
      "21 Hepatitis D\n",
      "22 Hepatitis E\n",
      "23 Hypertension \n",
      "24 Hyperthyroidism\n",
      "25 Hypoglycemia\n",
      "26 Hypothyroidism\n",
      "27 Impetigo\n",
      "28 Jaundice\n",
      "29 Malaria\n",
      "30 Migraine\n",
      "31 Osteoarthristis\n",
      "32 Paralysis (brain hemorrhage)\n",
      "33 Peptic ulcer diseae\n",
      "34 Pneumonia\n",
      "35 Psoriasis\n",
      "36 Tuberculosis\n",
      "37 Typhoid\n",
      "38 Urinary tract infection\n",
      "39 Varicose veins\n",
      "40 hepatitis A\n"
     ]
    }
   ],
   "source": [
    "c=0;\n",
    "for i in sorted_disease_list:\n",
    "    print(\"{} {}\".format(c,i))\n",
    "    c=c+1"
   ]
  },
  {
   "cell_type": "code",
   "execution_count": 8,
   "metadata": {},
   "outputs": [
    {
     "data": {
      "text/plain": [
       "41"
      ]
     },
     "execution_count": 8,
     "metadata": {},
     "output_type": "execute_result"
    }
   ],
   "source": [
    "data[\"Disease\"].nunique()"
   ]
  },
  {
   "cell_type": "code",
   "execution_count": 9,
   "metadata": {},
   "outputs": [
    {
     "data": {
      "text/plain": [
       "['Disease',\n",
       " 'Symptom_1',\n",
       " 'Symptom_2',\n",
       " 'Symptom_3',\n",
       " 'Symptom_4',\n",
       " 'Symptom_5',\n",
       " 'Symptom_6',\n",
       " 'Symptom_7',\n",
       " 'Symptom_8',\n",
       " 'Symptom_9',\n",
       " 'Symptom_10',\n",
       " 'Symptom_11',\n",
       " 'Symptom_12',\n",
       " 'Symptom_13',\n",
       " 'Symptom_14',\n",
       " 'Symptom_15',\n",
       " 'Symptom_16',\n",
       " 'Symptom_17']"
      ]
     },
     "execution_count": 9,
     "metadata": {},
     "output_type": "execute_result"
    }
   ],
   "source": [
    "column_list=list(data.columns)\n",
    "column_list"
   ]
  },
  {
   "cell_type": "code",
   "execution_count": 10,
   "metadata": {},
   "outputs": [
    {
     "name": "stdout",
     "output_type": "stream",
     "text": [
      "Disease -----  0\n",
      "Symptom_1 -----  0\n",
      "Symptom_2 -----  0\n",
      "Symptom_3 -----  0\n",
      "Symptom_4 -----  348\n",
      "Symptom_5 -----  1206\n",
      "Symptom_6 -----  1986\n",
      "Symptom_7 -----  2652\n",
      "Symptom_8 -----  2976\n",
      "Symptom_9 -----  3228\n",
      "Symptom_10 -----  3408\n",
      "Symptom_11 -----  3726\n",
      "Symptom_12 -----  4176\n",
      "Symptom_13 -----  4416\n",
      "Symptom_14 -----  4614\n",
      "Symptom_15 -----  4680\n",
      "Symptom_16 -----  4728\n",
      "Symptom_17 -----  4848\n"
     ]
    }
   ],
   "source": [
    "for i in column_list:\n",
    "    count_nan=data[i].isna().sum()\n",
    "    print('{} -----  {}' .format(i,count_nan))"
   ]
  },
  {
   "cell_type": "code",
   "execution_count": 11,
   "metadata": {},
   "outputs": [],
   "source": [
    "column_list.remove('Disease');"
   ]
  },
  {
   "cell_type": "code",
   "execution_count": 12,
   "metadata": {},
   "outputs": [
    {
     "data": {
      "text/plain": [
       "['Symptom_1',\n",
       " 'Symptom_2',\n",
       " 'Symptom_3',\n",
       " 'Symptom_4',\n",
       " 'Symptom_5',\n",
       " 'Symptom_6',\n",
       " 'Symptom_7',\n",
       " 'Symptom_8',\n",
       " 'Symptom_9',\n",
       " 'Symptom_10',\n",
       " 'Symptom_11',\n",
       " 'Symptom_12',\n",
       " 'Symptom_13',\n",
       " 'Symptom_14',\n",
       " 'Symptom_15',\n",
       " 'Symptom_16',\n",
       " 'Symptom_17']"
      ]
     },
     "execution_count": 12,
     "metadata": {},
     "output_type": "execute_result"
    }
   ],
   "source": [
    "column_list"
   ]
  },
  {
   "cell_type": "code",
   "execution_count": 13,
   "metadata": {},
   "outputs": [],
   "source": [
    "for i in column_list:\n",
    "    data[i].fillna(\"\", inplace=True)"
   ]
  },
  {
   "cell_type": "code",
   "execution_count": 14,
   "metadata": {},
   "outputs": [
    {
     "data": {
      "text/html": [
       "<div>\n",
       "<style scoped>\n",
       "    .dataframe tbody tr th:only-of-type {\n",
       "        vertical-align: middle;\n",
       "    }\n",
       "\n",
       "    .dataframe tbody tr th {\n",
       "        vertical-align: top;\n",
       "    }\n",
       "\n",
       "    .dataframe thead th {\n",
       "        text-align: right;\n",
       "    }\n",
       "</style>\n",
       "<table border=\"1\" class=\"dataframe\">\n",
       "  <thead>\n",
       "    <tr style=\"text-align: right;\">\n",
       "      <th></th>\n",
       "      <th>Disease</th>\n",
       "      <th>Symptom_1</th>\n",
       "      <th>Symptom_2</th>\n",
       "      <th>Symptom_3</th>\n",
       "      <th>Symptom_4</th>\n",
       "      <th>Symptom_5</th>\n",
       "      <th>Symptom_6</th>\n",
       "      <th>Symptom_7</th>\n",
       "      <th>Symptom_8</th>\n",
       "      <th>Symptom_9</th>\n",
       "      <th>Symptom_10</th>\n",
       "      <th>Symptom_11</th>\n",
       "      <th>Symptom_12</th>\n",
       "      <th>Symptom_13</th>\n",
       "      <th>Symptom_14</th>\n",
       "      <th>Symptom_15</th>\n",
       "      <th>Symptom_16</th>\n",
       "      <th>Symptom_17</th>\n",
       "    </tr>\n",
       "  </thead>\n",
       "  <tbody>\n",
       "    <tr>\n",
       "      <td>0</td>\n",
       "      <td>Fungal infection</td>\n",
       "      <td>itching</td>\n",
       "      <td>skin_rash</td>\n",
       "      <td>nodal_skin_eruptions</td>\n",
       "      <td>dischromic _patches</td>\n",
       "      <td></td>\n",
       "      <td></td>\n",
       "      <td></td>\n",
       "      <td></td>\n",
       "      <td></td>\n",
       "      <td></td>\n",
       "      <td></td>\n",
       "      <td></td>\n",
       "      <td></td>\n",
       "      <td></td>\n",
       "      <td></td>\n",
       "      <td></td>\n",
       "      <td></td>\n",
       "    </tr>\n",
       "    <tr>\n",
       "      <td>1</td>\n",
       "      <td>Fungal infection</td>\n",
       "      <td>skin_rash</td>\n",
       "      <td>nodal_skin_eruptions</td>\n",
       "      <td>dischromic _patches</td>\n",
       "      <td></td>\n",
       "      <td></td>\n",
       "      <td></td>\n",
       "      <td></td>\n",
       "      <td></td>\n",
       "      <td></td>\n",
       "      <td></td>\n",
       "      <td></td>\n",
       "      <td></td>\n",
       "      <td></td>\n",
       "      <td></td>\n",
       "      <td></td>\n",
       "      <td></td>\n",
       "      <td></td>\n",
       "    </tr>\n",
       "    <tr>\n",
       "      <td>2</td>\n",
       "      <td>Fungal infection</td>\n",
       "      <td>itching</td>\n",
       "      <td>nodal_skin_eruptions</td>\n",
       "      <td>dischromic _patches</td>\n",
       "      <td></td>\n",
       "      <td></td>\n",
       "      <td></td>\n",
       "      <td></td>\n",
       "      <td></td>\n",
       "      <td></td>\n",
       "      <td></td>\n",
       "      <td></td>\n",
       "      <td></td>\n",
       "      <td></td>\n",
       "      <td></td>\n",
       "      <td></td>\n",
       "      <td></td>\n",
       "      <td></td>\n",
       "    </tr>\n",
       "    <tr>\n",
       "      <td>3</td>\n",
       "      <td>Fungal infection</td>\n",
       "      <td>itching</td>\n",
       "      <td>skin_rash</td>\n",
       "      <td>dischromic _patches</td>\n",
       "      <td></td>\n",
       "      <td></td>\n",
       "      <td></td>\n",
       "      <td></td>\n",
       "      <td></td>\n",
       "      <td></td>\n",
       "      <td></td>\n",
       "      <td></td>\n",
       "      <td></td>\n",
       "      <td></td>\n",
       "      <td></td>\n",
       "      <td></td>\n",
       "      <td></td>\n",
       "      <td></td>\n",
       "    </tr>\n",
       "    <tr>\n",
       "      <td>4</td>\n",
       "      <td>Fungal infection</td>\n",
       "      <td>itching</td>\n",
       "      <td>skin_rash</td>\n",
       "      <td>nodal_skin_eruptions</td>\n",
       "      <td></td>\n",
       "      <td></td>\n",
       "      <td></td>\n",
       "      <td></td>\n",
       "      <td></td>\n",
       "      <td></td>\n",
       "      <td></td>\n",
       "      <td></td>\n",
       "      <td></td>\n",
       "      <td></td>\n",
       "      <td></td>\n",
       "      <td></td>\n",
       "      <td></td>\n",
       "      <td></td>\n",
       "    </tr>\n",
       "  </tbody>\n",
       "</table>\n",
       "</div>"
      ],
      "text/plain": [
       "            Disease   Symptom_1              Symptom_2              Symptom_3  \\\n",
       "0  Fungal infection     itching              skin_rash   nodal_skin_eruptions   \n",
       "1  Fungal infection   skin_rash   nodal_skin_eruptions    dischromic _patches   \n",
       "2  Fungal infection     itching   nodal_skin_eruptions    dischromic _patches   \n",
       "3  Fungal infection     itching              skin_rash    dischromic _patches   \n",
       "4  Fungal infection     itching              skin_rash   nodal_skin_eruptions   \n",
       "\n",
       "              Symptom_4 Symptom_5 Symptom_6 Symptom_7 Symptom_8 Symptom_9  \\\n",
       "0   dischromic _patches                                                     \n",
       "1                                                                           \n",
       "2                                                                           \n",
       "3                                                                           \n",
       "4                                                                           \n",
       "\n",
       "  Symptom_10 Symptom_11 Symptom_12 Symptom_13 Symptom_14 Symptom_15  \\\n",
       "0                                                                     \n",
       "1                                                                     \n",
       "2                                                                     \n",
       "3                                                                     \n",
       "4                                                                     \n",
       "\n",
       "  Symptom_16 Symptom_17  \n",
       "0                        \n",
       "1                        \n",
       "2                        \n",
       "3                        \n",
       "4                        "
      ]
     },
     "execution_count": 14,
     "metadata": {},
     "output_type": "execute_result"
    }
   ],
   "source": [
    "data.head()"
   ]
  },
  {
   "cell_type": "code",
   "execution_count": 15,
   "metadata": {},
   "outputs": [],
   "source": [
    "column_values = data[[\"Symptom_1\",\"Symptom_2\",\"Symptom_3\",\"Symptom_4\",\"Symptom_5\",\"Symptom_6\",\"Symptom_7\",\"Symptom_8\",\"Symptom_9\",\"Symptom_10\",\"Symptom_11\",\"Symptom_12\",\"Symptom_13\",\"Symptom_14\",\"Symptom_15\",\"Symptom_16\",\"Symptom_17\"]]\n",
    "unique_values =  np.unique(column_values)"
   ]
  },
  {
   "cell_type": "code",
   "execution_count": 16,
   "metadata": {},
   "outputs": [
    {
     "data": {
      "text/plain": [
       "array(['', ' abdominal_pain', ' abnormal_menstruation', ' acidity',\n",
       "       ' acute_liver_failure', ' altered_sensorium', ' anxiety',\n",
       "       ' back_pain', ' belly_pain', ' blackheads', ' bladder_discomfort',\n",
       "       ' blister', ' blood_in_sputum', ' bloody_stool',\n",
       "       ' blurred_and_distorted_vision', ' breathlessness',\n",
       "       ' brittle_nails', ' bruising', ' burning_micturition',\n",
       "       ' chest_pain', ' chills', ' cold_hands_and_feets', ' coma',\n",
       "       ' congestion', ' constipation', ' continuous_feel_of_urine',\n",
       "       ' continuous_sneezing', ' cough', ' cramps', ' dark_urine',\n",
       "       ' dehydration', ' depression', ' diarrhoea',\n",
       "       ' dischromic _patches', ' distention_of_abdomen', ' dizziness',\n",
       "       ' drying_and_tingling_lips', ' enlarged_thyroid',\n",
       "       ' excessive_hunger', ' extra_marital_contacts', ' family_history',\n",
       "       ' fast_heart_rate', ' fatigue', ' fluid_overload',\n",
       "       ' foul_smell_of urine', ' headache', ' high_fever',\n",
       "       ' hip_joint_pain', ' history_of_alcohol_consumption',\n",
       "       ' increased_appetite', ' indigestion', ' inflammatory_nails',\n",
       "       ' internal_itching', ' irregular_sugar_level', ' irritability',\n",
       "       ' irritation_in_anus', ' joint_pain', ' knee_pain',\n",
       "       ' lack_of_concentration', ' lethargy', ' loss_of_appetite',\n",
       "       ' loss_of_balance', ' loss_of_smell', ' malaise', ' mild_fever',\n",
       "       ' mood_swings', ' movement_stiffness', ' mucoid_sputum',\n",
       "       ' muscle_pain', ' muscle_wasting', ' muscle_weakness', ' nausea',\n",
       "       ' neck_pain', ' nodal_skin_eruptions', ' obesity',\n",
       "       ' pain_behind_the_eyes', ' pain_during_bowel_movements',\n",
       "       ' pain_in_anal_region', ' painful_walking', ' palpitations',\n",
       "       ' passage_of_gases', ' patches_in_throat', ' phlegm', ' polyuria',\n",
       "       ' prominent_veins_on_calf', ' puffy_face_and_eyes',\n",
       "       ' pus_filled_pimples', ' receiving_blood_transfusion',\n",
       "       ' receiving_unsterile_injections', ' red_sore_around_nose',\n",
       "       ' red_spots_over_body', ' redness_of_eyes', ' restlessness',\n",
       "       ' runny_nose', ' rusty_sputum', ' scurring', ' shivering',\n",
       "       ' silver_like_dusting', ' sinus_pressure', ' skin_peeling',\n",
       "       ' skin_rash', ' slurred_speech', ' small_dents_in_nails',\n",
       "       ' spinning_movements', ' spotting_ urination', ' stiff_neck',\n",
       "       ' stomach_bleeding', ' stomach_pain', ' sunken_eyes', ' sweating',\n",
       "       ' swelled_lymph_nodes', ' swelling_joints', ' swelling_of_stomach',\n",
       "       ' swollen_blood_vessels', ' swollen_extremeties', ' swollen_legs',\n",
       "       ' throat_irritation', ' toxic_look_(typhos)', ' ulcers_on_tongue',\n",
       "       ' unsteadiness', ' visual_disturbances', ' vomiting',\n",
       "       ' watering_from_eyes', ' weakness_in_limbs',\n",
       "       ' weakness_of_one_body_side', ' weight_gain', ' weight_loss',\n",
       "       ' yellow_crust_ooze', ' yellow_urine', ' yellowing_of_eyes',\n",
       "       ' yellowish_skin', 'itching'], dtype=object)"
      ]
     },
     "execution_count": 16,
     "metadata": {},
     "output_type": "execute_result"
    }
   ],
   "source": [
    "unique_values"
   ]
  },
  {
   "cell_type": "code",
   "execution_count": 18,
   "metadata": {},
   "outputs": [],
   "source": [
    "with open(\"symptomList.txt\", \"w\") as output:\n",
    "    output.write(str(unique_values))"
   ]
  },
  {
   "cell_type": "code",
   "execution_count": null,
   "metadata": {},
   "outputs": [],
   "source": [
    "column_list.remove('Symptom_1')\n",
    "for i in column_list:\n",
    "    data[\"Symptom_1\"]+=data[i]"
   ]
  },
  {
   "cell_type": "code",
   "execution_count": null,
   "metadata": {},
   "outputs": [],
   "source": [
    "data.head()\n"
   ]
  },
  {
   "cell_type": "code",
   "execution_count": null,
   "metadata": {},
   "outputs": [],
   "source": [
    "data.drop(data.columns[[2,3,4,5,6,7,8,9,10,11,12,13,14,15,16,17]], axis = 1, inplace = True)"
   ]
  },
  {
   "cell_type": "code",
   "execution_count": null,
   "metadata": {},
   "outputs": [],
   "source": [
    "data.shape"
   ]
  },
  {
   "cell_type": "code",
   "execution_count": null,
   "metadata": {},
   "outputs": [],
   "source": [
    "data.head(20)"
   ]
  },
  {
   "cell_type": "code",
   "execution_count": null,
   "metadata": {},
   "outputs": [],
   "source": []
  },
  {
   "cell_type": "code",
   "execution_count": null,
   "metadata": {},
   "outputs": [],
   "source": []
  },
  {
   "cell_type": "code",
   "execution_count": null,
   "metadata": {},
   "outputs": [],
   "source": [
    "'''\n",
    "from nltk.corpus import stopwords\n",
    "from nltk.stem.porter import PorterStemmer\n",
    "ps=PorterStemmer()\n",
    "corpus=[]\n",
    "'''"
   ]
  },
  {
   "cell_type": "code",
   "execution_count": null,
   "metadata": {},
   "outputs": [],
   "source": [
    "'''\n",
    "for i in range(0, len(data)):\n",
    "    review=re.sub('[^a-zA-z]',' ',data['Symptom_1'][i])\n",
    "    review=review.lower()\n",
    "    review=review.split()\n",
    "    review=[ps.stem(word) for word in review if not word in stopwords.words('english')]\n",
    "    review=' '.join(review)\n",
    "    corpus.append(review)\n",
    "'''"
   ]
  },
  {
   "cell_type": "code",
   "execution_count": null,
   "metadata": {},
   "outputs": [],
   "source": [
    "import re\n",
    "corpus=[]\n",
    "for i in range(0,len(data)):\n",
    "    review=re.sub('[^a-zA-z]',' ',data['Symptom_1'][i])\n",
    "    review=review.lower()\n",
    "    review=review.split()\n",
    "    review=' '.join(review)\n",
    "    corpus.append(review)"
   ]
  },
  {
   "cell_type": "code",
   "execution_count": null,
   "metadata": {},
   "outputs": [],
   "source": [
    "from sklearn.feature_extraction.text import CountVectorizer\n",
    "cv=CountVectorizer(max_features=5000)\n",
    "x=cv.fit_transform(corpus).toarray()"
   ]
  },
  {
   "cell_type": "code",
   "execution_count": null,
   "metadata": {},
   "outputs": [],
   "source": [
    "import pickle\n",
    "pickle.dump(cv, open('cv-transform.pkl', 'wb'))"
   ]
  },
  {
   "cell_type": "code",
   "execution_count": null,
   "metadata": {},
   "outputs": [],
   "source": [
    "x.shape"
   ]
  },
  {
   "cell_type": "code",
   "execution_count": null,
   "metadata": {},
   "outputs": [],
   "source": [
    "from sklearn.preprocessing import LabelEncoder\n",
    "encoder=LabelEncoder()\n",
    "data[\"Disease\"]=encoder.fit_transform(data[\"Disease\"])"
   ]
  },
  {
   "cell_type": "code",
   "execution_count": null,
   "metadata": {},
   "outputs": [],
   "source": [
    "data.head(20)"
   ]
  },
  {
   "cell_type": "code",
   "execution_count": null,
   "metadata": {},
   "outputs": [],
   "source": [
    "data[\"Disease\"].value_counts()"
   ]
  },
  {
   "cell_type": "code",
   "execution_count": null,
   "metadata": {},
   "outputs": [],
   "source": [
    "y=data[\"Disease\"]\n",
    "from sklearn.model_selection import train_test_split\n",
    "X_train,X_test,y_train,y_test=train_test_split(x,y,test_size=0.25,random_state=100)"
   ]
  },
  {
   "cell_type": "code",
   "execution_count": null,
   "metadata": {},
   "outputs": [],
   "source": [
    "from sklearn.naive_bayes import MultinomialNB\n",
    "classifier=MultinomialNB().fit(X_train,y_train)"
   ]
  },
  {
   "cell_type": "code",
   "execution_count": null,
   "metadata": {},
   "outputs": [],
   "source": [
    "pickle.dump(classifier, open('model.pkl', 'wb'))"
   ]
  },
  {
   "cell_type": "code",
   "execution_count": null,
   "metadata": {},
   "outputs": [],
   "source": []
  },
  {
   "cell_type": "code",
   "execution_count": null,
   "metadata": {},
   "outputs": [],
   "source": []
  },
  {
   "cell_type": "code",
   "execution_count": null,
   "metadata": {},
   "outputs": [],
   "source": [
    "#from sklearn.model_selection import cross_val_score\n",
    "#score=cross_val_score(classifier,x,y,cv=10)"
   ]
  },
  {
   "cell_type": "code",
   "execution_count": null,
   "metadata": {},
   "outputs": [],
   "source": [
    "y_pred=classifier.predict(X_test)"
   ]
  },
  {
   "cell_type": "code",
   "execution_count": null,
   "metadata": {},
   "outputs": [],
   "source": [
    "from sklearn.metrics import confusion_matrix, accuracy_score,recall\n",
    "confusion_m=confusion_matrix(y_test,y_pred)\n",
    "accuracy = accuracy_score(y_test,y_pred)\n",
    "\n",
    "print(accuracy)\n"
   ]
  },
  {
   "cell_type": "code",
   "execution_count": null,
   "metadata": {},
   "outputs": [],
   "source": [
    "print(confusion_m)\n"
   ]
  },
  {
   "cell_type": "code",
   "execution_count": null,
   "metadata": {},
   "outputs": [],
   "source": [
    "print(y_test)"
   ]
  },
  {
   "cell_type": "code",
   "execution_count": null,
   "metadata": {},
   "outputs": [],
   "source": [
    "print(y_pred)"
   ]
  },
  {
   "cell_type": "code",
   "execution_count": null,
   "metadata": {},
   "outputs": [],
   "source": []
  },
  {
   "cell_type": "code",
   "execution_count": null,
   "metadata": {},
   "outputs": [],
   "source": [
    "print(data[\"Disease\"])\n"
   ]
  },
  {
   "cell_type": "code",
   "execution_count": null,
   "metadata": {},
   "outputs": [],
   "source": []
  }
 ],
 "metadata": {
  "kernelspec": {
   "display_name": "Python 3",
   "language": "python",
   "name": "python3"
  },
  "language_info": {
   "codemirror_mode": {
    "name": "ipython",
    "version": 3
   },
   "file_extension": ".py",
   "mimetype": "text/x-python",
   "name": "python",
   "nbconvert_exporter": "python",
   "pygments_lexer": "ipython3",
   "version": "3.7.4"
  }
 },
 "nbformat": 4,
 "nbformat_minor": 2
}
